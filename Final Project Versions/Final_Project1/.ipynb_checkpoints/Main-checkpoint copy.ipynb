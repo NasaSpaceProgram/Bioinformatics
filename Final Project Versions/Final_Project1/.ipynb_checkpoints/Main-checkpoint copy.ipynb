{
 "cells": [
  {
   "cell_type": "code",
   "execution_count": 1,
   "metadata": {},
   "outputs": [],
   "source": [
    "import re \n",
    "from Code_snippets import *\n",
    "DNA = ReadFromFASTA(\"unknown_zeta.fasta\", Discriptor = False)\n",
    "DNA_comp = DNAtoDNA(DNA, reverse = True)\n",
    "#print(DNA)\n",
    "#print(DNA_comp) "
   ]
  },
  {
   "cell_type": "code",
   "execution_count": 2,
   "metadata": {},
   "outputs": [
    {
     "name": "stdout",
     "output_type": "stream",
     "text": [
      "Sequence length: 50001 nucleotides\n",
      "A: 25.1475 %\n",
      "C: 25.5655 %\n",
      "G: 25.6675 %\n",
      "T: 23.6195 %\n"
     ]
    }
   ],
   "source": [
    "# This is #1\n",
    "A_count = DNA.count(\"A\")\n",
    "C_count = DNA.count(\"C\")\n",
    "G_count = DNA.count(\"G\")\n",
    "T_count = DNA.count(\"T\")\n",
    "\n",
    "seq_len = len(DNA)\n",
    "print(\"Sequence length:\", seq_len, \"nucleotides\")\n",
    "\n",
    "print(\"A:\", round(A_count/seq_len*100, 4),\"%\")\n",
    "print(\"C:\", round(C_count/seq_len*100, 4),\"%\")\n",
    "print(\"G:\", round(G_count/seq_len*100, 4),\"%\")\n",
    "print(\"T:\", round(T_count/seq_len*100, 4),\"%\")"
   ]
  },
  {
   "cell_type": "code",
   "execution_count": 3,
   "metadata": {},
   "outputs": [],
   "source": [
    "# This is #2\n",
    "WrightSequenceToFASTA(\"DNA_comp.fasta\", Description = \"This is the complementary strand of our sequence\", Sequence = DNA_comp, lineSize = 60)"
   ]
  },
  {
   "cell_type": "code",
   "execution_count": 4,
   "metadata": {},
   "outputs": [],
   "source": [
    "# This is #3\n",
    "# The way find_reading_frames works this make a list of open readin frames which contain the start and stop indexes and corrdinates\n",
    "# as well as the sequences\n",
    "# so we kindof do #5 here as well \n",
    "readingframes = find_reading_frames(DNA, MinCodons = 100, StartCodons = [\"ATG\"], StopCodons = [\"TAG\",\"TAA\",\"TGA\"])\n",
    "readingframes_comp = find_reading_frames(DNA_comp, MinCodons = 100, StartCodons = [\"ATG\"], StopCodons = [\"TAG\",\"TAA\",\"TGA\"])\n",
    "\n",
    "\n",
    "# this is #4\n",
    "#forwardORfs file\n",
    "f1 = open(\"Forward_orf_coordinates.csv\",\"w\")\n",
    "for readingframe in readingframes:\n",
    "    f1.write(str(readingframe[\"Start Coord\"]) + \",\"  + (str(readingframe[\"End Coord\"]) + \"\\n\"))\n",
    "f1.close()\n",
    "#reverseORfs file\n",
    "f2 = open(\"Reverse_orf_coordinates.csv\",\"w\")\n",
    "for readingframe in readingframes_comp:\n",
    "    f2.write(str(readingframe[\"Start Coord\"]) + \",\"  + (str(readingframe[\"End Coord\"]) + \"\\n\"))\n",
    "f2.close()\n",
    "\n"
   ]
  },
  {
   "cell_type": "code",
   "execution_count": 5,
   "metadata": {},
   "outputs": [],
   "source": [
    "# This is #6\n",
    "#  Forword Open Reading frame\n",
    "i = 1\n",
    "f=open(\"OpenReadingFrame_AA_Seqence.fasta\",\"w\")\n",
    "for readingframe in readingframes:\n",
    "    AA = DNAtoAA(readingframe[\"Sequence\"])\n",
    "    WrightSequenceToFASTA(\"OpenReadingFrame_AA_Seqence.fasta\", Description = \"orf\" + str(i), Sequence = AA, lineSize = 60, writetype = \"a\")\n",
    "    i += 1\n",
    "f.close()\n",
    "#  Complementrary Open Reading frame\n",
    "i = 1\n",
    "f=open(\"OpenReadingFrame_Complemenary_AA_Seqence.fasta\",\"w\")\n",
    "for readingframe in readingframes_comp:\n",
    "    AA = DNAtoAA(readingframe[\"Sequence\"])\n",
    "    WrightSequenceToFASTA(\"OpenReadingFrame_Complemenary_AA_Seqence.fasta\", Description = \"orf\" + str(i), Sequence = AA, lineSize = 60, writetype = \"a\")\n",
    "    i += 1\n",
    "f.close()"
   ]
  },
  {
   "cell_type": "code",
   "execution_count": 6,
   "metadata": {},
   "outputs": [
    {
     "name": "stdout",
     "output_type": "stream",
     "text": [
      "unknown\tORF1\tgene\t1952\t1952\t-\t+\t-\tID\n",
      "unknown\tORF2\tgene\t2499\t2499\t-\t+\t-\tID\n",
      "unknown\tORF3\tgene\t3975\t3975\t-\t+\t-\tID\n",
      "unknown\tORF4\tgene\t5114\t5114\t-\t+\t-\tID\n",
      "unknown\tORF5\tgene\t6102\t6102\t-\t+\t-\tID\n",
      "unknown\tORF6\tgene\t10944\t10944\t-\t+\t-\tID\n",
      "unknown\tORF7\tgene\t11855\t11855\t-\t+\t-\tID\n",
      "unknown\tORF8\tgene\t13000\t13000\t-\t+\t-\tID\n",
      "unknown\tORF9\tgene\t13505\t13505\t-\t+\t-\tID\n",
      "unknown\tORF10\tgene\t13917\t13917\t-\t+\t-\tID\n",
      "unknown\tORF11\tgene\t14945\t14945\t-\t+\t-\tID\n",
      "unknown\tORF12\tgene\t17094\t17094\t-\t+\t-\tID\n",
      "unknown\tORF13\tgene\t19335\t19335\t-\t+\t-\tID\n",
      "unknown\tORF14\tgene\t20791\t20791\t-\t+\t-\tID\n",
      "unknown\tORF15\tgene\t21219\t21219\t-\t+\t-\tID\n",
      "unknown\tORF16\tgene\t22089\t22089\t-\t+\t-\tID\n",
      "unknown\tORF17\tgene\t23988\t23988\t-\t+\t-\tID\n",
      "unknown\tORF18\tgene\t24559\t24559\t-\t+\t-\tID\n",
      "unknown\tORF19\tgene\t26413\t26413\t-\t+\t-\tID\n",
      "unknown\tORF20\tgene\t30025\t30025\t-\t+\t-\tID\n",
      "unknown\tORF21\tgene\t34696\t34696\t-\t+\t-\tID\n",
      "unknown\tORF22\tgene\t35204\t35204\t-\t+\t-\tID\n",
      "unknown\tORF23\tgene\t36215\t36215\t-\t+\t-\tID\n",
      "unknown\tORF24\tgene\t37103\t37103\t-\t+\t-\tID\n",
      "unknown\tORF25\tgene\t38268\t38268\t-\t+\t-\tID\n",
      "unknown\tORF26\tgene\t40584\t40584\t-\t+\t-\tID\n",
      "unknown\tORF27\tgene\t45221\t45221\t-\t+\t-\tID\n",
      "unknown\tORF28\tgene\t46678\t46678\t-\t+\t-\tID\n",
      "unknown\tORF29\tgene\t48007\t48007\t-\t+\t-\tID\n",
      "unknown\tORF30\tgene\t48498\t48498\t-\t+\t-\tID\n",
      "unknown\tORF31\tgene\t49093\t49093\t-\t+\t-\tID\n",
      "\n"
     ]
    }
   ],
   "source": [
    "# this is #8 \n",
    "file2 = open(\"DNA_Sequence.gff\", \"w\")\n",
    "\n",
    "file_string2 = \"\"\n",
    "line = \"\"\n",
    "\n",
    "gene_num = 1\n",
    "for orf in readingframes:\n",
    "    begin = orf[\"Start Coord\"]\n",
    "    end = orf[\"Start Coord\"]\n",
    "    gene_name = \"ORF\" + str(gene_num) \n",
    "    line += \"unknown\" + \"\\t\" + gene_name + \"\\t\" + \"gene\" + \"\\t\" + str(begin) + \"\\t\" + str(end) + \"\\t\" + \"-\" + \"\\t\" + \"+\" + \"\\t\" + \"-\" + \"\\t\" + \"ID\" + \"\\n\"\n",
    "    file_string2 += line\n",
    "    line = \"\"\n",
    "    gene_num += 1\n",
    "\n",
    "file2.write(file_string2)\n",
    "file2.close()\n",
    "\n",
    "print(file_string2)"
   ]
  },
  {
   "cell_type": "code",
   "execution_count": 7,
   "metadata": {},
   "outputs": [
    {
     "name": "stdout",
     "output_type": "stream",
     "text": [
      "unknown\tORF1\tgene\t1952\t1952\t-\t+\t-\tID\n",
      "unknown\tORF2\tgene\t2499\t2499\t-\t+\t-\tID\n",
      "unknown\tORF3\tgene\t3975\t3975\t-\t+\t-\tID\n",
      "unknown\tORF4\tgene\t5114\t5114\t-\t+\t-\tID\n",
      "unknown\tORF5\tgene\t6102\t6102\t-\t+\t-\tID\n",
      "unknown\tORF6\tgene\t10944\t10944\t-\t+\t-\tID\n",
      "unknown\tORF7\tgene\t11855\t11855\t-\t+\t-\tID\n",
      "unknown\tORF8\tgene\t13000\t13000\t-\t+\t-\tID\n",
      "unknown\tORF9\tgene\t13505\t13505\t-\t+\t-\tID\n",
      "unknown\tORF10\tgene\t13917\t13917\t-\t+\t-\tID\n",
      "unknown\tORF11\tgene\t14945\t14945\t-\t+\t-\tID\n",
      "unknown\tORF12\tgene\t17094\t17094\t-\t+\t-\tID\n",
      "unknown\tORF13\tgene\t19335\t19335\t-\t+\t-\tID\n",
      "unknown\tORF14\tgene\t20791\t20791\t-\t+\t-\tID\n",
      "unknown\tORF15\tgene\t21219\t21219\t-\t+\t-\tID\n",
      "unknown\tORF16\tgene\t22089\t22089\t-\t+\t-\tID\n",
      "unknown\tORF17\tgene\t23988\t23988\t-\t+\t-\tID\n",
      "unknown\tORF18\tgene\t24559\t24559\t-\t+\t-\tID\n",
      "unknown\tORF19\tgene\t26413\t26413\t-\t+\t-\tID\n",
      "unknown\tORF20\tgene\t30025\t30025\t-\t+\t-\tID\n",
      "unknown\tORF21\tgene\t34696\t34696\t-\t+\t-\tID\n",
      "unknown\tORF22\tgene\t35204\t35204\t-\t+\t-\tID\n",
      "unknown\tORF23\tgene\t36215\t36215\t-\t+\t-\tID\n",
      "unknown\tORF24\tgene\t37103\t37103\t-\t+\t-\tID\n",
      "unknown\tORF25\tgene\t38268\t38268\t-\t+\t-\tID\n",
      "unknown\tORF26\tgene\t40584\t40584\t-\t+\t-\tID\n",
      "unknown\tORF27\tgene\t45221\t45221\t-\t+\t-\tID\n",
      "unknown\tORF28\tgene\t46678\t46678\t-\t+\t-\tID\n",
      "unknown\tORF29\tgene\t48007\t48007\t-\t+\t-\tID\n",
      "unknown\tORF30\tgene\t48498\t48498\t-\t+\t-\tID\n",
      "unknown\tORF31\tgene\t49093\t49093\t-\t+\t-\tID\n",
      "\n"
     ]
    }
   ],
   "source": [
    "# this is #8 continued\n",
    "file3 = open(\"DNA_Complement_Sequence.gff\", \"w\")\n",
    "\n",
    "file_string2 = \"\"\n",
    "line = \"\"\n",
    "\n",
    "gene_num = 1\n",
    "for orf in readingframes:\n",
    "    begin = orf[\"Start Coord\"]\n",
    "    end = orf[\"Start Coord\"]\n",
    "    gene_name = \"ORF\" + str(gene_num) \n",
    "    line += \"unknown\" + \"\\t\" + gene_name + \"\\t\" + \"gene\" + \"\\t\" + str(begin) + \"\\t\" + str(end) + \"\\t\" + \"-\" + \"\\t\" + \"+\" + \"\\t\" + \"-\" + \"\\t\" + \"ID\" + \"\\n\"\n",
    "    file_string2 += line\n",
    "    line = \"\"\n",
    "    gene_num += 1\n",
    "\n",
    "file3.write(file_string2)\n",
    "file3.close()\n",
    "\n",
    "print(file_string2)"
   ]
  },
  {
   "cell_type": "code",
   "execution_count": 8,
   "metadata": {},
   "outputs": [
    {
     "data": {
      "image/png": "[encoded data removed]",
      "text/plain": [
       "<Figure size 1080x129.6 with 1 Axes>"
      ]
     },
     "metadata": {},
     "output_type": "display_data"
    }
   ],
   "source": [
    "# #8 continued\n",
    "\n",
    "from dna_features_viewer import BiopythonTranslator\n",
    "\n",
    "def features_properties(f):\n",
    "    \"\"\"Features get a  color.\"\"\"\n",
    "    label = None\n",
    "    color = {\n",
    "        \"Mutant\": \"firebrick\",\n",
    "        \"Active site\": \"yellow\",\n",
    "        \"Beta strand\": \"lightyellow\",\n",
    "        \"Chain\": \"lightcyan\",\n",
    "        \"Helix\": \"honeydew\",\n",
    "        \"Initiator methionine\": \"white\",\n",
    "        \"Metal binding\": \"lightsteelblue\",\n",
    "        \"Turn\": \"moccasin\",\n",
    "    }.get(f.type, \"blue\")\n",
    "    return dict(color=color, label=label)\n",
    "\n",
    "translator = BiopythonTranslator(features_properties=features_properties)\n",
    "graphic_record = translator.translate_record(\"DNA_Sequence.gff\")\n",
    "ax, _ = graphic_record.plot(\n",
    "    figure_width=15, max_label_length=100, elevate_outline_annotations=True,\n",
    ")\n",
    "ax.set_title(\"ORFs in unknown\", fontweight=\"bold\", fontsize=16)\n",
    "ax.figure.tight_layout()\n",
    "ax.figure.savefig(\"DNA_Sequence.png\", bbox_inches=\"tight\")"
   ]
  },
  {
   "cell_type": "code",
   "execution_count": 9,
   "metadata": {},
   "outputs": [
    {
     "data": {
      "image/png": "[encoded data removed]",
      "text/plain": [
       "<Figure size 1080x129.6 with 1 Axes>"
      ]
     },
     "metadata": {},
     "output_type": "display_data"
    }
   ],
   "source": [
    "translator = BiopythonTranslator(features_properties=features_properties)\n",
    "graphic_record = translator.translate_record(\"DNA_Complement_Sequence.gff\")\n",
    "ax, _ = graphic_record.plot(\n",
    "    figure_width=15, max_label_length=100, elevate_outline_annotations=True,\n",
    ")\n",
    "ax.set_title(\"ORFs in unknown\", fontweight=\"bold\", fontsize=16)\n",
    "ax.figure.tight_layout()\n",
    "ax.figure.savefig(\"DNA_Complement_Sequence.png\", bbox_inches=\"tight\")"
   ]
  },
  {
   "cell_type": "code",
   "execution_count": null,
   "metadata": {},
   "outputs": [],
   "source": []
  }
 ],
 "metadata": {
  "kernelspec": {
   "display_name": "Python 3 (ipykernel)",
   "language": "python",
   "name": "python3"
  },
  "language_info": {
   "codemirror_mode": {
    "name": "ipython",
    "version": 3
   },
   "file_extension": ".py",
   "mimetype": "text/x-python",
   "name": "python",
   "nbconvert_exporter": "python",
   "pygments_lexer": "ipython3",
   "version": "3.9.7"
  },
  "vscode": {
   "interpreter": {
    "hash": "916dbcbb3f70747c44a77c7bcd40155683ae19c65e1c03b4aa3499c5328201f1"
   }
  }
 },
 "nbformat": 4,
 "nbformat_minor": 2
}
