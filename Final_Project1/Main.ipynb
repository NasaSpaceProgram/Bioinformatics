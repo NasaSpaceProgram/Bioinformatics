{
 "cells": [
  {
   "cell_type": "code",
   "execution_count": 1,
   "metadata": {},
   "outputs": [],
   "source": [
    "import re \n",
    "from Code_snippets import *\n",
    "DNA = ReadFromFASTA(\"unknown_zeta.fasta\", Discriptor = False)\n",
    "DNA_comp = DNAtoDNA(DNA, reverse = True)\n",
    "#print(DNA)\n",
    "#print(DNA_comp) "
   ]
  },
  {
   "cell_type": "code",
   "execution_count": 2,
   "metadata": {},
   "outputs": [
    {
     "name": "stdout",
     "output_type": "stream",
     "text": [
      "Sequence length: 50001 nucleotides\n",
      "A: 25.1475 %\n",
      "C: 25.5655 %\n",
      "G: 25.6675 %\n",
      "T: 23.6195 %\n"
     ]
    }
   ],
   "source": [
    "# This is #1\n",
    "A_count = DNA.count(\"A\")\n",
    "C_count = DNA.count(\"C\")\n",
    "G_count = DNA.count(\"G\")\n",
    "T_count = DNA.count(\"T\")\n",
    "\n",
    "seq_len = len(DNA)\n",
    "print(\"Sequence length:\", seq_len, \"nucleotides\")\n",
    "\n",
    "print(\"A:\", round(A_count/seq_len*100, 4),\"%\")\n",
    "print(\"C:\", round(C_count/seq_len*100, 4),\"%\")\n",
    "print(\"G:\", round(G_count/seq_len*100, 4),\"%\")\n",
    "print(\"T:\", round(T_count/seq_len*100, 4),\"%\")"
   ]
  },
  {
   "cell_type": "code",
   "execution_count": 3,
   "metadata": {},
   "outputs": [],
   "source": [
    "# This is #2\n",
    "WrightSequenceToFASTA(\"DNA_comp.fasta\", Description = \"This is the complementary strand of our sequence\", Sequence = DNA_comp, lineSize = 60)"
   ]
  },
  {
   "cell_type": "code",
   "execution_count": 4,
   "metadata": {},
   "outputs": [],
   "source": [
    "# This is #3\n",
    "# The way find_reading_frames works this make a list of open readin frames which contain the start and stop indexes and corrdinates\n",
    "# as well as the sequences\n",
    "# so we kindof do #5 here as well \n",
    "readingframes = find_reading_frames(DNA, MinCodons = 100, StartCodons = [\"ATG\"], StopCodons = [\"TAG\",\"TAA\",\"TGA\"])\n",
    "readingframes_comp = find_reading_frames(DNA_comp, MinCodons = 100, StartCodons = [\"ATG\"], StopCodons = [\"TAG\",\"TAA\",\"TGA\"])\n",
    "\n",
    "\n",
    "# this is #4\n",
    "#forwardORfs file\n",
    "f1 = open(\"Forward_orf_coordinates.csv\",\"w\")\n",
    "for readingframe in readingframes:\n",
    "    f1.write(str(readingframe[\"Start Coord\"]) + \",\"  + (str(readingframe[\"End Coord\"]) + \"\\n\"))\n",
    "f1.close()\n",
    "#reverseORfs file\n",
    "f2 = open(\"Reverse_orf_coordinates.csv\",\"w\")\n",
    "for readingframe in readingframes_comp:\n",
    "    f2.write(str(readingframe[\"Start Coord\"]) + \",\"  + (str(readingframe[\"End Coord\"]) + \"\\n\"))\n",
    "f2.close()\n",
    "\n"
   ]
  },
  {
   "cell_type": "code",
   "execution_count": 5,
   "metadata": {},
   "outputs": [],
   "source": [
    "# This is #6\n",
    "#  Forword Open Reading frame\n",
    "i = 1\n",
    "f=open(\"OpenReadingFrame_AA_Seqence.fasta\",\"w\")\n",
    "for readingframe in readingframes:\n",
    "    AA = DNAtoAA(readingframe[\"Sequence\"])\n",
    "    WrightSequenceToFASTA(\"OpenReadingFrame_AA_Seqence.fasta\", Description = \"orf\" + str(i), Sequence = AA, lineSize = 60, writetype = \"a\")\n",
    "    i += 1\n",
    "f.close()\n",
    "#  Complementrary Open Reading frame\n",
    "i = 1\n",
    "f=open(\"OpenReadingFrame_Complemenary_AA_Seqence.fasta\",\"w\")\n",
    "for readingframe in readingframes_comp:\n",
    "    AA = DNAtoAA(readingframe[\"Sequence\"])\n",
    "    WrightSequenceToFASTA(\"OpenReadingFrame_Complemenary_AA_Seqence.fasta\", Description = \"orf\" + str(i), Sequence = AA, lineSize = 60, writetype = \"a\")\n",
    "    i += 1\n",
    "f.close()"
   ]
  },
  {
   "cell_type": "code",
   "execution_count": null,
   "metadata": {},
   "outputs": [],
   "source": []
  },
  {
   "cell_type": "code",
   "execution_count": null,
   "metadata": {},
   "outputs": [],
   "source": []
  }
 ],
 "metadata": {
  "kernelspec": {
   "display_name": "Python 3.8.10 64-bit",
   "language": "python",
   "name": "python3"
  },
  "language_info": {
   "codemirror_mode": {
    "name": "ipython",
    "version": 3
   },
   "file_extension": ".py",
   "mimetype": "text/x-python",
   "name": "python",
   "nbconvert_exporter": "python",
   "pygments_lexer": "ipython3",
   "version": "3.8.10"
  },
  "orig_nbformat": 4,
  "vscode": {
   "interpreter": {
    "hash": "916dbcbb3f70747c44a77c7bcd40155683ae19c65e1c03b4aa3499c5328201f1"
   }
  }
 },
 "nbformat": 4,
 "nbformat_minor": 2
}
