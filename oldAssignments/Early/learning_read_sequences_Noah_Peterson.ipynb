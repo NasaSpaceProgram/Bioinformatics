{
 "cells": [
  {
   "cell_type": "markdown",
   "id": "0484ad17",
   "metadata": {},
   "source": [
    "### The basics--to check that you have a functional installation some simple code to work with sequences."
   ]
  },
  {
   "cell_type": "code",
   "execution_count": 14,
   "id": "f4e632da",
   "metadata": {},
   "outputs": [
    {
     "name": "stdout",
     "output_type": "stream",
     "text": [
      "ATTACGGGGCCAAT\n",
      "length of string1: 14\n",
      "Type of string1: <class 'str'>\n",
      "Type of length1: <class 'int'>\n",
      "hello world\n",
      "7\n",
      "Third Base: G\n",
      "Bases 5 through 12: ATCCGGCC\n"
     ]
    }
   ],
   "source": [
    "# Lines starting with a \"#\" character are comments\n",
    "\n",
    "# Assign a sequence to a string variable\n",
    "string1 = \"ATTACGGGGCCAAT\"\n",
    " \n",
    "    \n",
    "# Print the sequence to the output\n",
    "print(string1)\n",
    "\n",
    "\n",
    "# Count the number of characters in the string variable, put value into new variable\n",
    "length1 = len(string1)\n",
    "\n",
    "\n",
    "# Print that number\n",
    "print(\"length of string1: \" + str(length1))\n",
    "\n",
    "\n",
    "# Print the type of each variable\n",
    "print(\"Type of string1: \" + str(type(string1)))\n",
    "print(\"Type of length1: \" + str(type(length1)))\n",
    "\n",
    "# Concatenate two string\n",
    "string2 = \"hello \" + \"world\"\n",
    "print(string2)\n",
    "# Add two integers\n",
    "int1 = 3+4\n",
    "print(int1)\n",
    "\n",
    "\n",
    "# Trigger an error\n",
    "#int2 = \"3\" + 4\n",
    "# added_different = DNA_sequence + sequence_Length\n",
    "\n",
    "# Retrieving a specific character or range of characters in a string\n",
    "\n",
    "# Characters in string are numbered from zero\n",
    "# 123456789012345678\n",
    "# ACGTATCCGGCCTAATCG\n",
    "# 012345678901234567\n",
    "DNA_sequence = \"ACGTATCCGGCCTAATCG\"\n",
    "# Retrieve the third base in the sequence:\n",
    "# The index is 3 - 1 = 2 since Python numbers from 0\n",
    "Third_Base = DNA_sequence[2]\n",
    "print(\"Third Base: \" + str(Third_Base ))\n",
    "\n",
    "\n",
    "# Retrieve a range of bases from the sequence, say 5 through 12\n",
    "# A range is a pair of numbers, the beginning index and the upper bound\n",
    "Base5t012 = DNA_sequence[4:12]\n",
    "print(\"Bases 5 through 12: \" + str(Base5t012))\n"
   ]
  },
  {
   "cell_type": "markdown",
   "id": "e81e127d",
   "metadata": {},
   "source": [
    "### Obviously we don't want to copy and paste long sequences in making variable assignments.  We need code to read sequence data from a file.\n"
   ]
  },
  {
   "cell_type": "code",
   "execution_count": 16,
   "id": "3fa620a6",
   "metadata": {},
   "outputs": [
    {
     "name": "stdout",
     "output_type": "stream",
     "text": [
      ">human hemoglobin beta gene\n",
      "acatttgcttctgacacaactgtgttcactagcaacctcaaacagacaccatggtgcatctgactcctga\n",
      "ggagaagtctgccgttactgccctgtggggcaaggtgaacgtggatgaagttggtggtgaggccctgggc\n",
      "aggttggtatcaaggttacaagacaggtttaaggagaccaatagaaactgggcatgtggagacagagaag\n",
      "actcttgggtttctgataggcactgactctctctgcctattggtctattttcccacccttaggctgctgg\n",
      "tggtctacccttggacccagaggttctttgagtcctttggggatctgtccactcctgatgctgttatggg\n",
      "caaccctaaggtgaaggctcatggcaagaaagtgctcggtgcctttagtgatggcctggctcacctggac\n",
      "aacctcaagggcacctttgccacactgagtgagctgcactgtgacaagctgcacgtggatcctgagaact\n",
      "tcagggtgagtctatgggacgcttgatgttttctttccccttcttttctatggttaagttcatgtcatag\n",
      "gaaggggataagtaacagggtacagtttagaatgggaaacagacgaatgattgcatcagtgtggaagtct\n",
      "caggatcgttttagtttcttttatttgctgttcataacaattgttttcttttgtttaattcttgctttct\n",
      "ttttttttcttctccgcaatttttactattatacttaatgccttaacattgtgtataacaaaaggaaata\n",
      "tctctgagatacattaagtaacttaaaaaaaaactttacacagtctgcctagtacattactatttggaat\n",
      "atatgtgtgcttatttgcatattcataatctccctactttattttcttttatttttaattgatacataat\n",
      "cattatacatatttatgggttaaagtgtaatgttttaatatgtgtacacatattgaccaaatcagggtaa\n",
      "ttttgcatttgtaattttaaaaaatgctttcttcttttaatatacttttttgtttatcttatttctaata\n",
      "ctttccctaatctctttctttcagggcaataatgatacaatgtatcatgcctctttgcaccattctaaag\n",
      "aataacagtgataatttctgggttaaggcaatagcaatatctctgcatataaatatttctgcatataaat\n",
      "tgtaactgatgtaagaggtttcatattgctaatagcagctacaatccagctaccattctgcttttatttt\n",
      "atggttgggataaggctggattattctgagtccaagctaggcccttttgctaatcatgttcatacctctt\n",
      "atcttcctcccacagctcctgggcaacgtgctggtctgtgtgctggcccatcactttggcaaagaattca\n",
      "ccccaccagtgcaggctgcctatcagaaagtggtggctggtgtggctaatgccctggcccacaagtatca\n",
      "ctaagctcgctttcttgctgtccaatttctattaaaggttcctttgttccctaagtccaactactaaact\n",
      "gggggatattatgaagggccttgagcatctggattctgcctaataaaaaacatttattttcattgcaa\n",
      "Number of charicters in file: 1658\n"
     ]
    }
   ],
   "source": [
    "# Reading data from a FASTA-formatted file into a string variable\n",
    "\n",
    "# Open a file\n",
    "f = open(\"HBB.fasta\",\"r\")\n",
    "\n",
    "# Read that file into a string variable (make sure to give it a new name)\n",
    "file = f.read()\n",
    "\n",
    "\n",
    "# Close that file\n",
    "f.close()\n",
    "\n",
    "# Print the contents of that variable, and its type\n",
    "print(file)\n",
    "\n",
    "# Get the length of the string variable and print it\n",
    "print(\"Number of charicters in file: \" + str(len(file)))\n"
   ]
  },
  {
   "cell_type": "markdown",
   "id": "622f411e",
   "metadata": {},
   "source": [
    "### But what we usually want is just the sequence.  A Fasta file from a database will contain a descriptor line begin with a \">\",  Often the sequence will be written in blocks terminated with an invisible newline character.  This means we need to use a different method to read in just the sequence."
   ]
  },
  {
   "cell_type": "code",
   "execution_count": 10,
   "id": "415664d1",
   "metadata": {},
   "outputs": [
    {
     "name": "stdout",
     "output_type": "stream",
     "text": [
      ">human hemoglobin beta geneacatttgcttctgacacaactgtgttcactagcaacctcaaacagacaccatggtgcatctgactcctgaggagaagtctgccgttactgccctgtggggcaaggtgaacgtggatgaagttggtggtgaggccctgggcaggttggtatcaaggttacaagacaggtttaaggagaccaatagaaactgggcatgtggagacagagaagactcttgggtttctgataggcactgactctctctgcctattggtctattttcccacccttaggctgctggtggtctacccttggacccagaggttctttgagtcctttggggatctgtccactcctgatgctgttatgggcaaccctaaggtgaaggctcatggcaagaaagtgctcggtgcctttagtgatggcctggctcacctggacaacctcaagggcacctttgccacactgagtgagctgcactgtgacaagctgcacgtggatcctgagaacttcagggtgagtctatgggacgcttgatgttttctttccccttcttttctatggttaagttcatgtcataggaaggggataagtaacagggtacagtttagaatgggaaacagacgaatgattgcatcagtgtggaagtctcaggatcgttttagtttcttttatttgctgttcataacaattgttttcttttgtttaattcttgctttctttttttttcttctccgcaatttttactattatacttaatgccttaacattgtgtataacaaaaggaaatatctctgagatacattaagtaacttaaaaaaaaactttacacagtctgcctagtacattactatttggaatatatgtgtgcttatttgcatattcataatctccctactttattttcttttatttttaattgatacataatcattatacatatttatgggttaaagtgtaatgttttaatatgtgtacacatattgaccaaatcagggtaattttgcatttgtaattttaaaaaatgctttcttcttttaatatacttttttgtttatcttatttctaatactttccctaatctctttctttcagggcaataatgatacaatgtatcatgcctctttgcaccattctaaagaataacagtgataatttctgggttaaggcaatagcaatatctctgcatataaatatttctgcatataaattgtaactgatgtaagaggtttcatattgctaatagcagctacaatccagctaccattctgcttttattttatggttgggataaggctggattattctgagtccaagctaggcccttttgctaatcatgttcatacctcttatcttcctcccacagctcctgggcaacgtgctggtctgtgtgctggcccatcactttggcaaagaattcaccccaccagtgcaggctgcctatcagaaagtggtggctggtgtggctaatgccctggcccacaagtatcactaagctcgctttcttgctgtccaatttctattaaaggttcctttgttccctaagtccaactactaaactgggggatattatgaagggccttgagcatctggattctgcctaataaaaaacatttattttcattgcaa\n"
     ]
    }
   ],
   "source": [
    "# We can remove the invisble newline characters (\\n) using a string method called replace\n",
    "\n",
    "file = file.replace(\"\\n\", \"\")\n",
    "\n",
    "# The output text behaves different when you resize your browser window.\n",
    "\n",
    "print(file)"
   ]
  },
  {
   "cell_type": "markdown",
   "id": "56f90991",
   "metadata": {},
   "source": [
    "### But we have the problem that descriptor line is still present. We will need to use a different method to solve this problem."
   ]
  },
  {
   "cell_type": "code",
   "execution_count": 11,
   "id": "1d9639c8",
   "metadata": {},
   "outputs": [
    {
     "name": "stdout",
     "output_type": "stream",
     "text": [
      "<class 'list'>\n",
      "['>human hemoglobin beta gene\\n', 'acatttgcttctgacacaactgtgttcactagcaacctcaaacagacaccatggtgcatctgactcctga\\n', 'ggagaagtctgccgttactgccctgtggggcaaggtgaacgtggatgaagttggtggtgaggccctgggc\\n', 'aggttggtatcaaggttacaagacaggtttaaggagaccaatagaaactgggcatgtggagacagagaag\\n', 'actcttgggtttctgataggcactgactctctctgcctattggtctattttcccacccttaggctgctgg\\n', 'tggtctacccttggacccagaggttctttgagtcctttggggatctgtccactcctgatgctgttatggg\\n', 'caaccctaaggtgaaggctcatggcaagaaagtgctcggtgcctttagtgatggcctggctcacctggac\\n', 'aacctcaagggcacctttgccacactgagtgagctgcactgtgacaagctgcacgtggatcctgagaact\\n', 'tcagggtgagtctatgggacgcttgatgttttctttccccttcttttctatggttaagttcatgtcatag\\n', 'gaaggggataagtaacagggtacagtttagaatgggaaacagacgaatgattgcatcagtgtggaagtct\\n', 'caggatcgttttagtttcttttatttgctgttcataacaattgttttcttttgtttaattcttgctttct\\n', 'ttttttttcttctccgcaatttttactattatacttaatgccttaacattgtgtataacaaaaggaaata\\n', 'tctctgagatacattaagtaacttaaaaaaaaactttacacagtctgcctagtacattactatttggaat\\n', 'atatgtgtgcttatttgcatattcataatctccctactttattttcttttatttttaattgatacataat\\n', 'cattatacatatttatgggttaaagtgtaatgttttaatatgtgtacacatattgaccaaatcagggtaa\\n', 'ttttgcatttgtaattttaaaaaatgctttcttcttttaatatacttttttgtttatcttatttctaata\\n', 'ctttccctaatctctttctttcagggcaataatgatacaatgtatcatgcctctttgcaccattctaaag\\n', 'aataacagtgataatttctgggttaaggcaatagcaatatctctgcatataaatatttctgcatataaat\\n', 'tgtaactgatgtaagaggtttcatattgctaatagcagctacaatccagctaccattctgcttttatttt\\n', 'atggttgggataaggctggattattctgagtccaagctaggcccttttgctaatcatgttcatacctctt\\n', 'atcttcctcccacagctcctgggcaacgtgctggtctgtgtgctggcccatcactttggcaaagaattca\\n', 'ccccaccagtgcaggctgcctatcagaaagtggtggctggtgtggctaatgccctggcccacaagtatca\\n', 'ctaagctcgctttcttgctgtccaatttctattaaaggttcctttgttccctaagtccaactactaaact\\n', 'gggggatattatgaagggccttgagcatctggattctgcctaataaaaaacatttattttcattgcaa']\n"
     ]
    }
   ],
   "source": [
    "# This time use a file method that reads the data line by line into an array (list).\n",
    "\n",
    "# Note the format of list--items within quotes, separated by commas, within bounding square brackets.\n",
    "\n",
    "file = open('HBB.fasta', 'r')\n",
    "DNA_sequence3 = file.readlines()\n",
    "file.close()\n",
    "\n",
    "# Note that the the type of data in the variable is now not a string but a list of strings.\n",
    "\n",
    "print (type(DNA_sequence3))\n",
    "\n",
    "# It has a much different appearance when we print it to output\n",
    "\n",
    "print (DNA_sequence3)"
   ]
  },
  {
   "cell_type": "markdown",
   "id": "ee06d2d9",
   "metadata": {},
   "source": [
    "### The first item in the list the string for the descriptor line.  We can eliminate that line as we redefine the contents of the variable."
   ]
  },
  {
   "cell_type": "code",
   "execution_count": 12,
   "id": "b79c14f5",
   "metadata": {},
   "outputs": [
    {
     "name": "stdout",
     "output_type": "stream",
     "text": [
      "['acatttgcttctgacacaactgtgttcactagcaacctcaaacagacaccatggtgcatctgactcctga\\n', 'ggagaagtctgccgttactgccctgtggggcaaggtgaacgtggatgaagttggtggtgaggccctgggc\\n', 'aggttggtatcaaggttacaagacaggtttaaggagaccaatagaaactgggcatgtggagacagagaag\\n', 'actcttgggtttctgataggcactgactctctctgcctattggtctattttcccacccttaggctgctgg\\n', 'tggtctacccttggacccagaggttctttgagtcctttggggatctgtccactcctgatgctgttatggg\\n', 'caaccctaaggtgaaggctcatggcaagaaagtgctcggtgcctttagtgatggcctggctcacctggac\\n', 'aacctcaagggcacctttgccacactgagtgagctgcactgtgacaagctgcacgtggatcctgagaact\\n', 'tcagggtgagtctatgggacgcttgatgttttctttccccttcttttctatggttaagttcatgtcatag\\n', 'gaaggggataagtaacagggtacagtttagaatgggaaacagacgaatgattgcatcagtgtggaagtct\\n', 'caggatcgttttagtttcttttatttgctgttcataacaattgttttcttttgtttaattcttgctttct\\n', 'ttttttttcttctccgcaatttttactattatacttaatgccttaacattgtgtataacaaaaggaaata\\n', 'tctctgagatacattaagtaacttaaaaaaaaactttacacagtctgcctagtacattactatttggaat\\n', 'atatgtgtgcttatttgcatattcataatctccctactttattttcttttatttttaattgatacataat\\n', 'cattatacatatttatgggttaaagtgtaatgttttaatatgtgtacacatattgaccaaatcagggtaa\\n', 'ttttgcatttgtaattttaaaaaatgctttcttcttttaatatacttttttgtttatcttatttctaata\\n', 'ctttccctaatctctttctttcagggcaataatgatacaatgtatcatgcctctttgcaccattctaaag\\n', 'aataacagtgataatttctgggttaaggcaatagcaatatctctgcatataaatatttctgcatataaat\\n', 'tgtaactgatgtaagaggtttcatattgctaatagcagctacaatccagctaccattctgcttttatttt\\n', 'atggttgggataaggctggattattctgagtccaagctaggcccttttgctaatcatgttcatacctctt\\n', 'atcttcctcccacagctcctgggcaacgtgctggtctgtgtgctggcccatcactttggcaaagaattca\\n', 'ccccaccagtgcaggctgcctatcagaaagtggtggctggtgtggctaatgccctggcccacaagtatca\\n', 'ctaagctcgctttcttgctgtccaatttctattaaaggttcctttgttccctaagtccaactactaaact\\n', 'gggggatattatgaagggccttgagcatctggattctgcctaataaaaaacatttattttcattgcaa']\n"
     ]
    }
   ],
   "source": [
    "# We make a new list the skips the first item in the list\n",
    "\n",
    "DNA_sequence3 = DNA_sequence3[1:]\n",
    "\n",
    "print(DNA_sequence3)"
   ]
  },
  {
   "cell_type": "markdown",
   "id": "d5143d32",
   "metadata": {},
   "source": [
    "### Now we have to convert the items into the list back into a string, and then replace the newlines."
   ]
  },
  {
   "cell_type": "code",
   "execution_count": 13,
   "id": "283dd57b",
   "metadata": {},
   "outputs": [
    {
     "name": "stdout",
     "output_type": "stream",
     "text": [
      "acatttgcttctgacacaactgtgttcactagcaacctcaaacagacaccatggtgcatctgactcctga\n",
      "ggagaagtctgccgttactgccctgtggggcaaggtgaacgtggatgaagttggtggtgaggccctgggc\n",
      "aggttggtatcaaggttacaagacaggtttaaggagaccaatagaaactgggcatgtggagacagagaag\n",
      "actcttgggtttctgataggcactgactctctctgcctattggtctattttcccacccttaggctgctgg\n",
      "tggtctacccttggacccagaggttctttgagtcctttggggatctgtccactcctgatgctgttatggg\n",
      "caaccctaaggtgaaggctcatggcaagaaagtgctcggtgcctttagtgatggcctggctcacctggac\n",
      "aacctcaagggcacctttgccacactgagtgagctgcactgtgacaagctgcacgtggatcctgagaact\n",
      "tcagggtgagtctatgggacgcttgatgttttctttccccttcttttctatggttaagttcatgtcatag\n",
      "gaaggggataagtaacagggtacagtttagaatgggaaacagacgaatgattgcatcagtgtggaagtct\n",
      "caggatcgttttagtttcttttatttgctgttcataacaattgttttcttttgtttaattcttgctttct\n",
      "ttttttttcttctccgcaatttttactattatacttaatgccttaacattgtgtataacaaaaggaaata\n",
      "tctctgagatacattaagtaacttaaaaaaaaactttacacagtctgcctagtacattactatttggaat\n",
      "atatgtgtgcttatttgcatattcataatctccctactttattttcttttatttttaattgatacataat\n",
      "cattatacatatttatgggttaaagtgtaatgttttaatatgtgtacacatattgaccaaatcagggtaa\n",
      "ttttgcatttgtaattttaaaaaatgctttcttcttttaatatacttttttgtttatcttatttctaata\n",
      "ctttccctaatctctttctttcagggcaataatgatacaatgtatcatgcctctttgcaccattctaaag\n",
      "aataacagtgataatttctgggttaaggcaatagcaatatctctgcatataaatatttctgcatataaat\n",
      "tgtaactgatgtaagaggtttcatattgctaatagcagctacaatccagctaccattctgcttttatttt\n",
      "atggttgggataaggctggattattctgagtccaagctaggcccttttgctaatcatgttcatacctctt\n",
      "atcttcctcccacagctcctgggcaacgtgctggtctgtgtgctggcccatcactttggcaaagaattca\n",
      "ccccaccagtgcaggctgcctatcagaaagtggtggctggtgtggctaatgccctggcccacaagtatca\n",
      "ctaagctcgctttcttgctgtccaatttctattaaaggttcctttgttccctaagtccaactactaaact\n",
      "gggggatattatgaagggccttgagcatctggattctgcctaataaaaaacatttattttcattgcaa\n",
      "acatttgcttctgacacaactgtgttcactagcaacctcaaacagacaccatggtgcatctgactcctgaggagaagtctgccgttactgccctgtggggcaaggtgaacgtggatgaagttggtggtgaggccctgggcaggttggtatcaaggttacaagacaggtttaaggagaccaatagaaactgggcatgtggagacagagaagactcttgggtttctgataggcactgactctctctgcctattggtctattttcccacccttaggctgctggtggtctacccttggacccagaggttctttgagtcctttggggatctgtccactcctgatgctgttatgggcaaccctaaggtgaaggctcatggcaagaaagtgctcggtgcctttagtgatggcctggctcacctggacaacctcaagggcacctttgccacactgagtgagctgcactgtgacaagctgcacgtggatcctgagaacttcagggtgagtctatgggacgcttgatgttttctttccccttcttttctatggttaagttcatgtcataggaaggggataagtaacagggtacagtttagaatgggaaacagacgaatgattgcatcagtgtggaagtctcaggatcgttttagtttcttttatttgctgttcataacaattgttttcttttgtttaattcttgctttctttttttttcttctccgcaatttttactattatacttaatgccttaacattgtgtataacaaaaggaaatatctctgagatacattaagtaacttaaaaaaaaactttacacagtctgcctagtacattactatttggaatatatgtgtgcttatttgcatattcataatctccctactttattttcttttatttttaattgatacataatcattatacatatttatgggttaaagtgtaatgttttaatatgtgtacacatattgaccaaatcagggtaattttgcatttgtaattttaaaaaatgctttcttcttttaatatacttttttgtttatcttatttctaatactttccctaatctctttctttcagggcaataatgatacaatgtatcatgcctctttgcaccattctaaagaataacagtgataatttctgggttaaggcaatagcaatatctctgcatataaatatttctgcatataaattgtaactgatgtaagaggtttcatattgctaatagcagctacaatccagctaccattctgcttttattttatggttgggataaggctggattattctgagtccaagctaggcccttttgctaatcatgttcatacctcttatcttcctcccacagctcctgggcaacgtgctggtctgtgtgctggcccatcactttggcaaagaattcaccccaccagtgcaggctgcctatcagaaagtggtggctggtgtggctaatgccctggcccacaagtatcactaagctcgctttcttgctgtccaatttctattaaaggttcctttgttccctaagtccaactactaaactgggggatattatgaagggccttgagcatctggattctgcctaataaaaaacatttattttcattgcaa\n",
      "The length of the HBB sequence is:  1608\n",
      "ACATTTGCTTCTGACACAACTGTGTTCACTAGCAACCTCAAACAGACACCATGGTGCATCTGACTCCTGAGGAGAAGTCTGCCGTTACTGCCCTGTGGGGCAAGGTGAACGTGGATGAAGTTGGTGGTGAGGCCCTGGGCAGGTTGGTATCAAGGTTACAAGACAGGTTTAAGGAGACCAATAGAAACTGGGCATGTGGAGACAGAGAAGACTCTTGGGTTTCTGATAGGCACTGACTCTCTCTGCCTATTGGTCTATTTTCCCACCCTTAGGCTGCTGGTGGTCTACCCTTGGACCCAGAGGTTCTTTGAGTCCTTTGGGGATCTGTCCACTCCTGATGCTGTTATGGGCAACCCTAAGGTGAAGGCTCATGGCAAGAAAGTGCTCGGTGCCTTTAGTGATGGCCTGGCTCACCTGGACAACCTCAAGGGCACCTTTGCCACACTGAGTGAGCTGCACTGTGACAAGCTGCACGTGGATCCTGAGAACTTCAGGGTGAGTCTATGGGACGCTTGATGTTTTCTTTCCCCTTCTTTTCTATGGTTAAGTTCATGTCATAGGAAGGGGATAAGTAACAGGGTACAGTTTAGAATGGGAAACAGACGAATGATTGCATCAGTGTGGAAGTCTCAGGATCGTTTTAGTTTCTTTTATTTGCTGTTCATAACAATTGTTTTCTTTTGTTTAATTCTTGCTTTCTTTTTTTTTCTTCTCCGCAATTTTTACTATTATACTTAATGCCTTAACATTGTGTATAACAAAAGGAAATATCTCTGAGATACATTAAGTAACTTAAAAAAAAACTTTACACAGTCTGCCTAGTACATTACTATTTGGAATATATGTGTGCTTATTTGCATATTCATAATCTCCCTACTTTATTTTCTTTTATTTTTAATTGATACATAATCATTATACATATTTATGGGTTAAAGTGTAATGTTTTAATATGTGTACACATATTGACCAAATCAGGGTAATTTTGCATTTGTAATTTTAAAAAATGCTTTCTTCTTTTAATATACTTTTTTGTTTATCTTATTTCTAATACTTTCCCTAATCTCTTTCTTTCAGGGCAATAATGATACAATGTATCATGCCTCTTTGCACCATTCTAAAGAATAACAGTGATAATTTCTGGGTTAAGGCAATAGCAATATCTCTGCATATAAATATTTCTGCATATAAATTGTAACTGATGTAAGAGGTTTCATATTGCTAATAGCAGCTACAATCCAGCTACCATTCTGCTTTTATTTTATGGTTGGGATAAGGCTGGATTATTCTGAGTCCAAGCTAGGCCCTTTTGCTAATCATGTTCATACCTCTTATCTTCCTCCCACAGCTCCTGGGCAACGTGCTGGTCTGTGTGCTGGCCCATCACTTTGGCAAAGAATTCACCCCACCAGTGCAGGCTGCCTATCAGAAAGTGGTGGCTGGTGTGGCTAATGCCCTGGCCCACAAGTATCACTAAGCTCGCTTTCTTGCTGTCCAATTTCTATTAAAGGTTCCTTTGTTCCCTAAGTCCAACTACTAAACTGGGGGATATTATGAAGGGCCTTGAGCATCTGGATTCTGCCTAATAAAAAACATTTATTTTCATTGCAA\n"
     ]
    }
   ],
   "source": [
    "# The join method will concatenate the items in the list to form a string\n",
    "\n",
    "DNA_sequence_string = \"\".join(DNA_sequence3)\n",
    "\n",
    "print(DNA_sequence_string)\n",
    "\n",
    "# And now we remove the newline characters\n",
    "\n",
    "DNA_sequence_string = DNA_sequence_string.replace(\"\\n\", \"\")\n",
    "\n",
    "print(DNA_sequence_string)\n",
    "\n",
    "# We can now determine the length of just the nucleotide sequence\n",
    "\n",
    "DNA_string_length = len(DNA_sequence_string)\n",
    "print(\"The length of the HBB sequence is: \", DNA_string_length)\n",
    "\n",
    "# We can easily convert the sequence from lower case to upper case with a string method\n",
    "\n",
    "DNA_sequence_string = DNA_sequence_string.upper()\n",
    "print(DNA_sequence_string)"
   ]
  },
  {
   "cell_type": "markdown",
   "id": "1e854517",
   "metadata": {},
   "source": [
    "### Most common problems\n",
    "\n",
    "- Not having a data file in the working directory (without giving an explicit file path to the data file).\n",
    "- Leaving out a necessary comma or colon.\n",
    "- Indenting issues (tabs vs, spaces)--especially when we begin working with loops.,\n",
    "- Unpaired braces, parentheses. brackets, or quotes.\n",
    "- Leaving out () at end of some functions where not parameters are supplied.\n",
    "- Misspelling commands,\n",
    "- Failing to convert whole numbers entered as a string (at input) into an integer for a function where an integer is expected,\n",
    "- Not supplying all of the required input for a function.\n",
    "- Forgetting to convert sequence coordinates for a range into the string indices required to define a substring.\n",
    "\n",
    "### Error messages give you a rough idea of where the error may be--but sometimes it is in an earlier line than indicated in the error message."
   ]
  },
  {
   "cell_type": "code",
   "execution_count": 21,
   "id": "fe26bb2b",
   "metadata": {},
   "outputs": [
    {
     "name": "stdout",
     "output_type": "stream",
     "text": [
      "acatttgcttctgacacaactgtgttcactagcaacctcaaacagacaccatggtgcatctgactcctgaggagaagtctgccgttactgccctgtggggcaaggtgaacgtggatgaagttggtggtgaggccctgggcaggttggtatcaaggttacaagacaggtttaaggagaccaatagaaactgggcatgtggagacagagaagactcttgggtttctgataggcactgactctctctgcctattggtctattttcccacccttaggctgctggtggtctacccttggacccagaggttctttgagtcctttggggatctgtccactcctgatgctgttatgggcaaccctaaggtgaaggctcatggcaagaaagtgctcggtgcctttagtgatggcctggctcacctggacaacctcaagggcacctttgccacactgagtgagctgcactgtgacaagctgcacgtggatcctgagaacttcagggtgagtctatgggacgcttgatgttttctttccccttcttttctatggttaagttcatgtcataggaaggggataagtaacagggtacagtttagaatgggaaacagacgaatgattgcatcagtgtggaagtctcaggatcgttttagtttcttttatttgctgttcataacaattgttttcttttgtttaattcttgctttctttttttttcttctccgcaatttttactattatacttaatgccttaacattgtgtataacaaaaggaaatatctctgagatacattaagtaacttaaaaaaaaactttacacagtctgcctagtacattactatttggaatatatgtgtgcttatttgcatattcataatctccctactttattttcttttatttttaattgatacataatcattatacatatttatgggttaaagtgtaatgttttaatatgtgtacacatattgaccaaatcagggtaattttgcatttgtaattttaaaaaatgctttcttcttttaatatacttttttgtttatcttatttctaatactttccctaatctctttctttcagggcaataatgatacaatgtatcatgcctctttgcaccattctaaagaataacagtgataatttctgggttaaggcaatagcaatatctctgcatataaatatttctgcatataaattgtaactgatgtaagaggtttcatattgctaatagcagctacaatccagctaccattctgcttttattttatggttgggataaggctggattattctgagtccaagctaggcccttttgctaatcatgttcatacctcttatcttcctcccacagctcctgggcaacgtgctggtctgtgtgctggcccatcactttggcaaagaattcaccccaccagtgcaggctgcctatcagaaagtggtggctggtgtggctaatgccctggcccacaagtatcactaagctcgctttcttgctgtccaatttctattaaaggttcctttgttccctaagtccaactactaaactgggggatattatgaagggccttgagcatctggattctgcctaataaaaaacatttattttcattgcaa\n",
      "ACATTTGCTTCTGACACAACTGTGTTCACTAGCAACCTCAAACAGACACCATGGTGCATCTGACTCCTGAGGAGAAGTCTGCCGTTACTGCCCTGTGGGGCAAGGTGAACGTGGATGAAGTTGGTGGTGAGGCCCTGGGCAGGTTGGTATCAAGGTTACAAGACAGGTTTAAGGAGACCAATAGAAACTGGGCATGTGGAGACAGAGAAGACTCTTGGGTTTCTGATAGGCACTGACTCTCTCTGCCTATTGGTCTATTTTCCCACCCTTAGGCTGCTGGTGGTCTACCCTTGGACCCAGAGGTTCTTTGAGTCCTTTGGGGATCTGTCCACTCCTGATGCTGTTATGGGCAACCCTAAGGTGAAGGCTCATGGCAAGAAAGTGCTCGGTGCCTTTAGTGATGGCCTGGCTCACCTGGACAACCTCAAGGGCACCTTTGCCACACTGAGTGAGCTGCACTGTGACAAGCTGCACGTGGATCCTGAGAACTTCAGGGTGAGTCTATGGGACGCTTGATGTTTTCTTTCCCCTTCTTTTCTATGGTTAAGTTCATGTCATAGGAAGGGGATAAGTAACAGGGTACAGTTTAGAATGGGAAACAGACGAATGATTGCATCAGTGTGGAAGTCTCAGGATCGTTTTAGTTTCTTTTATTTGCTGTTCATAACAATTGTTTTCTTTTGTTTAATTCTTGCTTTCTTTTTTTTTCTTCTCCGCAATTTTTACTATTATACTTAATGCCTTAACATTGTGTATAACAAAAGGAAATATCTCTGAGATACATTAAGTAACTTAAAAAAAAACTTTACACAGTCTGCCTAGTACATTACTATTTGGAATATATGTGTGCTTATTTGCATATTCATAATCTCCCTACTTTATTTTCTTTTATTTTTAATTGATACATAATCATTATACATATTTATGGGTTAAAGTGTAATGTTTTAATATGTGTACACATATTGACCAAATCAGGGTAATTTTGCATTTGTAATTTTAAAAAATGCTTTCTTCTTTTAATATACTTTTTTGTTTATCTTATTTCTAATACTTTCCCTAATCTCTTTCTTTCAGGGCAATAATGATACAATGTATCATGCCTCTTTGCACCATTCTAAAGAATAACAGTGATAATTTCTGGGTTAAGGCAATAGCAATATCTCTGCATATAAATATTTCTGCATATAAATTGTAACTGATGTAAGAGGTTTCATATTGCTAATAGCAGCTACAATCCAGCTACCATTCTGCTTTTATTTTATGGTTGGGATAAGGCTGGATTATTCTGAGTCCAAGCTAGGCCCTTTTGCTAATCATGTTCATACCTCTTATCTTCCTCCCACAGCTCCTGGGCAACGTGCTGGTCTGTGTGCTGGCCCATCACTTTGGCAAAGAATTCACCCCACCAGTGCAGGCTGCCTATCAGAAAGTGGTGGCTGGTGTGGCTAATGCCCTGGCCCACAAGTATCACTAAGCTCGCTTTCTTGCTGTCCAATTTCTATTAAAGGTTCCTTTGTTCCCTAAGTCCAACTACTAAACTGGGGGATATTATGAAGGGCCTTGAGCATCTGGATTCTGCCTAATAAAAAACATTTATTTTCATTGCAA\n"
     ]
    }
   ],
   "source": [
    "def ReadSequenceFromFASTA(filename):\n",
    "    \"\"\"Reads from fasta file then outputs only the sequence as an unbroken string\"\"\"\n",
    "    f = open(filename, \"r\")\n",
    "    lines = f.readlines()[1:]\n",
    "    f.close()\n",
    "    stringSeq = \"\".join(lines)\n",
    "    stringSeq = stringSeq.replace(\"\\n\",\"\")\n",
    "    return(stringSeq)\n",
    "\n",
    "DNASequence = ReadSequenceFromFASTA(\"HBB.fasta\")\n",
    "print(DNASequence)\n",
    "DNASequenceUpper = DNASequence.upper()\n",
    "print(DNASequenceUpper)"
   ]
  },
  {
   "cell_type": "code",
   "execution_count": null,
   "id": "4b77d7c9",
   "metadata": {},
   "outputs": [],
   "source": []
  }
 ],
 "metadata": {
  "kernelspec": {
   "display_name": "Python 3.8.10 64-bit",
   "language": "python",
   "name": "python3"
  },
  "language_info": {
   "codemirror_mode": {
    "name": "ipython",
    "version": 3
   },
   "file_extension": ".py",
   "mimetype": "text/x-python",
   "name": "python",
   "nbconvert_exporter": "python",
   "pygments_lexer": "ipython3",
   "version": "3.8.10"
  },
  "vscode": {
   "interpreter": {
    "hash": "916dbcbb3f70747c44a77c7bcd40155683ae19c65e1c03b4aa3499c5328201f1"
   }
  }
 },
 "nbformat": 4,
 "nbformat_minor": 5
}
