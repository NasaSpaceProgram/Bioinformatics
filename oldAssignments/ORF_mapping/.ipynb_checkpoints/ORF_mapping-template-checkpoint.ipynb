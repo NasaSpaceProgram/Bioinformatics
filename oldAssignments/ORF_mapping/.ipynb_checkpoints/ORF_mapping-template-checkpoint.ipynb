{
 "cells": [
  {
   "cell_type": "code",
   "execution_count": 1,
   "id": "f26b63bc",
   "metadata": {},
   "outputs": [
    {
     "name": "stdout",
     "output_type": "stream",
     "text": [
      "10,300\n",
      "450,678\n",
      "1020,2001\n",
      "2010,2030\n",
      "2300,3000\n"
     ]
    }
   ],
   "source": [
    "orf_list = [10, 300, 450, 678, 1020, 2001, 2010, 2030, 2300, 3000]\n",
    "\n",
    "file_string = \"\"\n",
    "\n",
    "file1 = open(\"coordinates.txt\", \"w\")\n",
    "for i in range(0, len(orf_list), 2):\n",
    "    file_string += str(orf_list[i])\n",
    "    file_string += \",\"\n",
    "    file_string += str(orf_list[i+1])\n",
    "    file_string += \"\\n\"\n",
    "    \n",
    "file_string = file_string.rstrip()\n",
    "\n",
    "print(file_string)\n",
    "\n",
    "file1.write(file_string)\n",
    "\n",
    "file1.close()"
   ]
  },
  {
   "cell_type": "code",
   "execution_count": 2,
   "id": "667d4344",
   "metadata": {},
   "outputs": [
    {
     "name": "stdout",
     "output_type": "stream",
     "text": [
      "unknown\tORF1\tgene\t10\t300\t-\t+\t-\tID\n",
      "unknown\tORF2\tgene\t450\t678\t-\t+\t-\tID\n",
      "unknown\tORF3\tgene\t1020\t2001\t-\t+\t-\tID\n",
      "unknown\tORF4\tgene\t2010\t2030\t-\t+\t-\tID\n",
      "unknown\tORF5\tgene\t2300\t3000\t-\t+\t-\tID\n",
      "\n"
     ]
    }
   ],
   "source": [
    "file2 = open(\"output.gff\", \"w\")\n",
    "\n",
    "file_string2 = \"\"\n",
    "line = \"\"\n",
    "\n",
    "gene_num = 1\n",
    "\n",
    "for i in range(0, len(orf_list), 2):\n",
    "    begin = str(orf_list[i])\n",
    "    end = str(orf_list[i+1])\n",
    "    gene_name = \"ORF\" + str(gene_num) \n",
    "    line += \"unknown\" + \"\\t\" + gene_name + \"\\t\" + \"gene\" + \"\\t\" + str(begin) + \"\\t\" + str(end) + \"\\t\" + \"-\" + \"\\t\" + \"+\" + \"\\t\" + \"-\" + \"\\t\" + \"ID\" + \"\\n\"\n",
    "    file_string2 += line\n",
    "    line = \"\"\n",
    "    gene_num += 1\n",
    "\n",
    "file2.write(file_string2)\n",
    "file2.close()\n",
    "\n",
    "print(file_string2)"
   ]
  },
  {
   "cell_type": "code",
   "execution_count": 1,
   "id": "fe386ca8",
   "metadata": {},
   "outputs": [
    {
     "data": {
      "image/png": "[encoded data removed]",
      "text/plain": [
       "<Figure size 1440x158.4 with 1 Axes>"
      ]
     },
     "metadata": {},
     "output_type": "display_data"
    }
   ],
   "source": [
    "from dna_features_viewer import BiopythonTranslator\n",
    "graphic_record = BiopythonTranslator().translate_record(\"output.gff\")\n",
    "ax, _ = graphic_record.plot(figure_width=20)\n",
    "ax.set_title(\"Unknown ORF predictions\", fontweight=\"bold\", fontsize=16)\n",
    "ax.figure.savefig(\"map.jpeg\")"
   ]
  },
  {
   "cell_type": "code",
   "execution_count": 2,
   "id": "35877d4b",
   "metadata": {},
   "outputs": [
    {
     "data": {
      "image/png": "[encoded data removed]",
      "text/plain": [
       "<Figure size 1080x129.6 with 1 Axes>"
      ]
     },
     "metadata": {},
     "output_type": "display_data"
    }
   ],
   "source": [
    "from dna_features_viewer import BiopythonTranslator\n",
    "\n",
    "def features_properties(f):\n",
    "    \"\"\"Features get a  color.\"\"\"\n",
    "    label = None\n",
    "    color = {\n",
    "        \"Mutant\": \"firebrick\",\n",
    "        \"Active site\": \"yellow\",\n",
    "        \"Beta strand\": \"lightyellow\",\n",
    "        \"Chain\": \"lightcyan\",\n",
    "        \"Helix\": \"honeydew\",\n",
    "        \"Initiator methionine\": \"white\",\n",
    "        \"Metal binding\": \"lightsteelblue\",\n",
    "        \"Turn\": \"moccasin\",\n",
    "    }.get(f.type, \"blue\")\n",
    "    return dict(color=color, label=label)\n",
    "\n",
    "translator = BiopythonTranslator(features_properties=features_properties)\n",
    "graphic_record = translator.translate_record(\"output.gff\")\n",
    "ax, _ = graphic_record.plot(\n",
    "    figure_width=15, max_label_length=100, elevate_outline_annotations=True,\n",
    ")\n",
    "ax.set_title(\"ORFs in unknown\", fontweight=\"bold\", fontsize=16)\n",
    "ax.figure.tight_layout()\n",
    "ax.figure.savefig(\"orf_map2.png\", bbox_inches=\"tight\")"
   ]
  },
  {
   "cell_type": "code",
   "execution_count": null,
   "id": "5233b972",
   "metadata": {},
   "outputs": [],
   "source": []
  }
 ],
 "metadata": {
  "kernelspec": {
   "display_name": "Python 3 (ipykernel)",
   "language": "python",
   "name": "python3"
  },
  "language_info": {
   "codemirror_mode": {
    "name": "ipython",
    "version": 3
   },
   "file_extension": ".py",
   "mimetype": "text/x-python",
   "name": "python",
   "nbconvert_exporter": "python",
   "pygments_lexer": "ipython3",
   "version": "3.9.7"
  },
  "vscode": {
   "interpreter": {
    "hash": "916dbcbb3f70747c44a77c7bcd40155683ae19c65e1c03b4aa3499c5328201f1"
   }
  }
 },
 "nbformat": 4,
 "nbformat_minor": 5
}
