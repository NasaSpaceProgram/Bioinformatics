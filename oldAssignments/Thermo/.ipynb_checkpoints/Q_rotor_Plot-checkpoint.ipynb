{
 "cells": [
  {
   "cell_type": "code",
   "execution_count": null,
   "metadata": {},
   "outputs": [],
   "source": [
    "from math import exp\n",
    "def Partition_of_QRotor(n):\n",
    "    count = 0\n",
    "    for i in range(n+1):\n",
    "        try:\n",
    "            count += (2*i+1)*exp(-i*(i+1))\n",
    "        except:\n",
    "            print(i)\n",
    "    return count\n",
    "\n",
    "import numpy as np\n",
    "import matplotlib.pyplot as plt\n",
    "from matplotlib.animation import FuncAnimation\n",
    "\n",
    "\n",
    "fig = plt.figure()\n",
    "ax = plt.axes(xlim=(0, 100), ylim=(0, 100))\n",
    "x = np.linspace(1, 100, 1000)\n",
    "plt.title(\"Z vs j_max\")\n",
    "plt.ylabel(\"Z\")\n",
    "plt.xlabel(\"j_max\")"
   ]
  }
 ],
 "metadata": {
  "kernelspec": {
   "display_name": "Python 3 (ipykernel)",
   "language": "python",
   "name": "python3"
  },
  "language_info": {
   "codemirror_mode": {
    "name": "ipython",
    "version": 3
   },
   "file_extension": ".py",
   "mimetype": "text/x-python",
   "name": "python",
   "nbconvert_exporter": "python",
   "pygments_lexer": "ipython3",
   "version": "3.9.7"
  },
  "vscode": {
   "interpreter": {
    "hash": "916dbcbb3f70747c44a77c7bcd40155683ae19c65e1c03b4aa3499c5328201f1"
   }
  }
 },
 "nbformat": 4,
 "nbformat_minor": 2
}
