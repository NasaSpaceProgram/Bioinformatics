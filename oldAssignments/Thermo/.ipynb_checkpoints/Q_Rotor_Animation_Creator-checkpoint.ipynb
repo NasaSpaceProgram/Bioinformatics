{
 "cells": [
  {
   "cell_type": "code",
   "execution_count": 1,
   "id": "0c4d4885",
   "metadata": {},
   "outputs": [
    {
     "name": "stderr",
     "output_type": "stream",
     "text": [
      "MovieWriter imagemagick unavailable; using Pillow instead.\n"
     ]
    },
    {
     "data": {
      "image/png": "[encoded data removed]",
      "text/plain": [
       "<Figure size 432x288 with 1 Axes>"
      ]
     },
     "metadata": {
      "needs_background": "light"
     },
     "output_type": "display_data"
    }
   ],
   "source": [
    "from math import exp\n",
    "def Partition_of_QRotor(n,xs):\n",
    "    oupt = []\n",
    "    for x in xs:\n",
    "        count = 0\n",
    "        for i in range(n+1):\n",
    "            try:\n",
    "                count += (2*i+1)*exp(-i*(i+1)/x)\n",
    "            except:\n",
    "                print(i)\n",
    "        oupt.append(count)\n",
    "    return oupt\n",
    "\n",
    "#for i in range(100):\n",
    "\n",
    "import numpy as np\n",
    "import matplotlib.pyplot as plt\n",
    "from matplotlib.animation import FuncAnimation\n",
    "   \n",
    "    \n",
    "plt.style.use('seaborn-pastel')\n",
    "\n",
    "\n",
    "fig = plt.figure()\n",
    "ax = plt.axes(xlim=(0, 200), ylim=(0, 200))\n",
    "line, = ax.plot([], [], lw=3)\n",
    "\n",
    "def init():\n",
    "    line.set_data([], [])\n",
    "    return line,\n",
    "def animate(n):\n",
    "    plt.title(\"j max = \" + str(n))\n",
    "    plt.ylabel(\"Z\")\n",
    "    plt.xlabel(\"t\")\n",
    "    x = np.linspace(1, 200, 1000)\n",
    "    func = lambda x : Partition_of_QRotor(n,x)\n",
    "    y = func(x)\n",
    "    line.set_data(x, y)\n",
    "    return line,\n",
    "\n",
    "anim = FuncAnimation(fig, animate, init_func=init,\n",
    "                               frames=101, interval=20, blit=True)\n",
    "\n",
    "\n",
    "anim.save('QRotor.gif', writer='imagemagick')"
   ]
  },
  {
   "cell_type": "code",
   "execution_count": null,
   "id": "daa8fa24",
   "metadata": {},
   "outputs": [],
   "source": []
  }
 ],
 "metadata": {
  "kernelspec": {
   "display_name": "Python 3 (ipykernel)",
   "language": "python",
   "name": "python3"
  },
  "language_info": {
   "codemirror_mode": {
    "name": "ipython",
    "version": 3
   },
   "file_extension": ".py",
   "mimetype": "text/x-python",
   "name": "python",
   "nbconvert_exporter": "python",
   "pygments_lexer": "ipython3",
   "version": "3.9.7"
  },
  "vscode": {
   "interpreter": {
    "hash": "916dbcbb3f70747c44a77c7bcd40155683ae19c65e1c03b4aa3499c5328201f1"
   }
  }
 },
 "nbformat": 4,
 "nbformat_minor": 5
}
